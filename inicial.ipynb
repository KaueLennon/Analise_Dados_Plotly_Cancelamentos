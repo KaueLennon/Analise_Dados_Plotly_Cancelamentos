{
 "cells": [
  {
   "cell_type": "markdown",
   "metadata": {},
   "source": [
    "# Python Insights - Analisando Dados com Python\n",
    "\n",
    "### Case - Cancelamento de Clientes\n",
    "\n",
    "Você foi contratado por uma empresa com mais de 800 mil clientes para um projeto de Dados. Recentemente a empresa percebeu que da sua base total de clientes, a maioria são clientes inativos, ou seja, que já cancelaram o serviço.\n",
    "\n",
    "Precisando melhorar seus resultados ela quer conseguir entender os principais motivos desses cancelamentos e quais as ações mais eficientes para reduzir esse número.\n",
    "\n",
    "Base de dados e arquivos: https://drive.google.com/drive/folders/1uDesZePdkhiraJmiyeZ-w5tfc8XsNYFZ?usp=drive_link"
   ]
  },
  {
   "cell_type": "code",
   "execution_count": 3,
   "metadata": {},
   "outputs": [
    {
     "data": {
      "text/html": [
       "<div>\n",
       "<style scoped>\n",
       "    .dataframe tbody tr th:only-of-type {\n",
       "        vertical-align: middle;\n",
       "    }\n",
       "\n",
       "    .dataframe tbody tr th {\n",
       "        vertical-align: top;\n",
       "    }\n",
       "\n",
       "    .dataframe thead th {\n",
       "        text-align: right;\n",
       "    }\n",
       "</style>\n",
       "<table border=\"1\" class=\"dataframe\">\n",
       "  <thead>\n",
       "    <tr style=\"text-align: right;\">\n",
       "      <th></th>\n",
       "      <th>idade</th>\n",
       "      <th>sexo</th>\n",
       "      <th>tempo_como_cliente</th>\n",
       "      <th>frequencia_uso</th>\n",
       "      <th>ligacoes_callcenter</th>\n",
       "      <th>dias_atraso</th>\n",
       "      <th>assinatura</th>\n",
       "      <th>duracao_contrato</th>\n",
       "      <th>total_gasto</th>\n",
       "      <th>meses_ultima_interacao</th>\n",
       "      <th>cancelou</th>\n",
       "    </tr>\n",
       "  </thead>\n",
       "  <tbody>\n",
       "    <tr>\n",
       "      <th>0</th>\n",
       "      <td>23.0</td>\n",
       "      <td>Male</td>\n",
       "      <td>13.0</td>\n",
       "      <td>22.0</td>\n",
       "      <td>2.0</td>\n",
       "      <td>1.0</td>\n",
       "      <td>Standard</td>\n",
       "      <td>Annual</td>\n",
       "      <td>909.58</td>\n",
       "      <td>23.0</td>\n",
       "      <td>0.0</td>\n",
       "    </tr>\n",
       "    <tr>\n",
       "      <th>1</th>\n",
       "      <td>49.0</td>\n",
       "      <td>Male</td>\n",
       "      <td>55.0</td>\n",
       "      <td>16.0</td>\n",
       "      <td>3.0</td>\n",
       "      <td>6.0</td>\n",
       "      <td>Premium</td>\n",
       "      <td>Monthly</td>\n",
       "      <td>207.00</td>\n",
       "      <td>29.0</td>\n",
       "      <td>1.0</td>\n",
       "    </tr>\n",
       "    <tr>\n",
       "      <th>2</th>\n",
       "      <td>30.0</td>\n",
       "      <td>Male</td>\n",
       "      <td>7.0</td>\n",
       "      <td>1.0</td>\n",
       "      <td>0.0</td>\n",
       "      <td>8.0</td>\n",
       "      <td>Basic</td>\n",
       "      <td>Annual</td>\n",
       "      <td>768.78</td>\n",
       "      <td>7.0</td>\n",
       "      <td>0.0</td>\n",
       "    </tr>\n",
       "    <tr>\n",
       "      <th>3</th>\n",
       "      <td>26.0</td>\n",
       "      <td>Male</td>\n",
       "      <td>40.0</td>\n",
       "      <td>5.0</td>\n",
       "      <td>3.0</td>\n",
       "      <td>8.0</td>\n",
       "      <td>Premium</td>\n",
       "      <td>Annual</td>\n",
       "      <td>398.00</td>\n",
       "      <td>12.0</td>\n",
       "      <td>1.0</td>\n",
       "    </tr>\n",
       "    <tr>\n",
       "      <th>4</th>\n",
       "      <td>27.0</td>\n",
       "      <td>Female</td>\n",
       "      <td>17.0</td>\n",
       "      <td>30.0</td>\n",
       "      <td>5.0</td>\n",
       "      <td>6.0</td>\n",
       "      <td>Basic</td>\n",
       "      <td>Annual</td>\n",
       "      <td>507.00</td>\n",
       "      <td>15.0</td>\n",
       "      <td>1.0</td>\n",
       "    </tr>\n",
       "    <tr>\n",
       "      <th>...</th>\n",
       "      <td>...</td>\n",
       "      <td>...</td>\n",
       "      <td>...</td>\n",
       "      <td>...</td>\n",
       "      <td>...</td>\n",
       "      <td>...</td>\n",
       "      <td>...</td>\n",
       "      <td>...</td>\n",
       "      <td>...</td>\n",
       "      <td>...</td>\n",
       "      <td>...</td>\n",
       "    </tr>\n",
       "    <tr>\n",
       "      <th>1020</th>\n",
       "      <td>48.0</td>\n",
       "      <td>Female</td>\n",
       "      <td>44.0</td>\n",
       "      <td>9.0</td>\n",
       "      <td>6.0</td>\n",
       "      <td>25.0</td>\n",
       "      <td>Premium</td>\n",
       "      <td>Monthly</td>\n",
       "      <td>691.29</td>\n",
       "      <td>13.0</td>\n",
       "      <td>1.0</td>\n",
       "    </tr>\n",
       "    <tr>\n",
       "      <th>1021</th>\n",
       "      <td>42.0</td>\n",
       "      <td>Female</td>\n",
       "      <td>56.0</td>\n",
       "      <td>18.0</td>\n",
       "      <td>4.0</td>\n",
       "      <td>7.0</td>\n",
       "      <td>Standard</td>\n",
       "      <td>Annual</td>\n",
       "      <td>949.45</td>\n",
       "      <td>6.0</td>\n",
       "      <td>0.0</td>\n",
       "    </tr>\n",
       "    <tr>\n",
       "      <th>1022</th>\n",
       "      <td>45.0</td>\n",
       "      <td>Female</td>\n",
       "      <td>34.0</td>\n",
       "      <td>28.0</td>\n",
       "      <td>4.0</td>\n",
       "      <td>19.0</td>\n",
       "      <td>Standard</td>\n",
       "      <td>Quarterly</td>\n",
       "      <td>941.50</td>\n",
       "      <td>6.0</td>\n",
       "      <td>0.0</td>\n",
       "    </tr>\n",
       "    <tr>\n",
       "      <th>1023</th>\n",
       "      <td>37.0</td>\n",
       "      <td>Female</td>\n",
       "      <td>23.0</td>\n",
       "      <td>28.0</td>\n",
       "      <td>1.0</td>\n",
       "      <td>2.0</td>\n",
       "      <td>Premium</td>\n",
       "      <td>Quarterly</td>\n",
       "      <td>601.84</td>\n",
       "      <td>13.0</td>\n",
       "      <td>0.0</td>\n",
       "    </tr>\n",
       "    <tr>\n",
       "      <th>1024</th>\n",
       "      <td>19.0</td>\n",
       "      <td>Male</td>\n",
       "      <td>46.0</td>\n",
       "      <td>14.0</td>\n",
       "      <td>4.0</td>\n",
       "      <td>9.0</td>\n",
       "      <td>Premium</td>\n",
       "      <td>Quarterly</td>\n",
       "      <td>954.00</td>\n",
       "      <td>28.0</td>\n",
       "      <td>1.0</td>\n",
       "    </tr>\n",
       "  </tbody>\n",
       "</table>\n",
       "<p>1025 rows × 11 columns</p>\n",
       "</div>"
      ],
      "text/plain": [
       "      idade    sexo  tempo_como_cliente  frequencia_uso  ligacoes_callcenter  \\\n",
       "0      23.0    Male                13.0            22.0                  2.0   \n",
       "1      49.0    Male                55.0            16.0                  3.0   \n",
       "2      30.0    Male                 7.0             1.0                  0.0   \n",
       "3      26.0    Male                40.0             5.0                  3.0   \n",
       "4      27.0  Female                17.0            30.0                  5.0   \n",
       "...     ...     ...                 ...             ...                  ...   \n",
       "1020   48.0  Female                44.0             9.0                  6.0   \n",
       "1021   42.0  Female                56.0            18.0                  4.0   \n",
       "1022   45.0  Female                34.0            28.0                  4.0   \n",
       "1023   37.0  Female                23.0            28.0                  1.0   \n",
       "1024   19.0    Male                46.0            14.0                  4.0   \n",
       "\n",
       "      dias_atraso assinatura duracao_contrato  total_gasto  \\\n",
       "0             1.0   Standard           Annual       909.58   \n",
       "1             6.0    Premium          Monthly       207.00   \n",
       "2             8.0      Basic           Annual       768.78   \n",
       "3             8.0    Premium           Annual       398.00   \n",
       "4             6.0      Basic           Annual       507.00   \n",
       "...           ...        ...              ...          ...   \n",
       "1020         25.0    Premium          Monthly       691.29   \n",
       "1021          7.0   Standard           Annual       949.45   \n",
       "1022         19.0   Standard        Quarterly       941.50   \n",
       "1023          2.0    Premium        Quarterly       601.84   \n",
       "1024          9.0    Premium        Quarterly       954.00   \n",
       "\n",
       "      meses_ultima_interacao  cancelou  \n",
       "0                       23.0       0.0  \n",
       "1                       29.0       1.0  \n",
       "2                        7.0       0.0  \n",
       "3                       12.0       1.0  \n",
       "4                       15.0       1.0  \n",
       "...                      ...       ...  \n",
       "1020                    13.0       1.0  \n",
       "1021                     6.0       0.0  \n",
       "1022                     6.0       0.0  \n",
       "1023                    13.0       0.0  \n",
       "1024                    28.0       1.0  \n",
       "\n",
       "[1025 rows x 11 columns]"
      ]
     },
     "metadata": {},
     "output_type": "display_data"
    }
   ],
   "source": [
    "#Passo1: Importar a base de dados de clientes\n",
    "import pandas as pd\n",
    "tabela = pd.read_csv(\"cancelamentos_sample.csv\")\n",
    "tabela = tabela.drop(columns=\"CustomerID\")\n",
    "display(tabela)"
   ]
  },
  {
   "cell_type": "code",
   "execution_count": 4,
   "metadata": {},
   "outputs": [
    {
     "name": "stdout",
     "output_type": "stream",
     "text": [
      "<class 'pandas.core.frame.DataFrame'>\n",
      "RangeIndex: 1025 entries, 0 to 1024\n",
      "Data columns (total 11 columns):\n",
      " #   Column                  Non-Null Count  Dtype  \n",
      "---  ------                  --------------  -----  \n",
      " 0   idade                   1025 non-null   float64\n",
      " 1   sexo                    1022 non-null   object \n",
      " 2   tempo_como_cliente      1023 non-null   float64\n",
      " 3   frequencia_uso          1025 non-null   float64\n",
      " 4   ligacoes_callcenter     1025 non-null   float64\n",
      " 5   dias_atraso             1025 non-null   float64\n",
      " 6   assinatura              1025 non-null   object \n",
      " 7   duracao_contrato        1025 non-null   object \n",
      " 8   total_gasto             1025 non-null   float64\n",
      " 9   meses_ultima_interacao  1025 non-null   float64\n",
      " 10  cancelou                1025 non-null   float64\n",
      "dtypes: float64(8), object(3)\n",
      "memory usage: 88.2+ KB\n"
     ]
    },
    {
     "data": {
      "text/plain": [
       "None"
      ]
     },
     "metadata": {},
     "output_type": "display_data"
    },
    {
     "name": "stdout",
     "output_type": "stream",
     "text": [
      "<class 'pandas.core.frame.DataFrame'>\n",
      "Index: 1021 entries, 0 to 1024\n",
      "Data columns (total 11 columns):\n",
      " #   Column                  Non-Null Count  Dtype  \n",
      "---  ------                  --------------  -----  \n",
      " 0   idade                   1021 non-null   float64\n",
      " 1   sexo                    1021 non-null   object \n",
      " 2   tempo_como_cliente      1021 non-null   float64\n",
      " 3   frequencia_uso          1021 non-null   float64\n",
      " 4   ligacoes_callcenter     1021 non-null   float64\n",
      " 5   dias_atraso             1021 non-null   float64\n",
      " 6   assinatura              1021 non-null   object \n",
      " 7   duracao_contrato        1021 non-null   object \n",
      " 8   total_gasto             1021 non-null   float64\n",
      " 9   meses_ultima_interacao  1021 non-null   float64\n",
      " 10  cancelou                1021 non-null   float64\n",
      "dtypes: float64(8), object(3)\n",
      "memory usage: 95.7+ KB\n"
     ]
    },
    {
     "data": {
      "text/plain": [
       "None"
      ]
     },
     "metadata": {},
     "output_type": "display_data"
    }
   ],
   "source": [
    "#Ajustar o arquivo - retirando as linhas com NULL com o comando dropna\n",
    "display(tabela.info())\n",
    "tabela = tabela.dropna()\n",
    "display(tabela.info())"
   ]
  },
  {
   "cell_type": "code",
   "execution_count": 5,
   "metadata": {},
   "outputs": [
    {
     "data": {
      "text/plain": [
       "cancelou\n",
       "1.0    580\n",
       "0.0    441\n",
       "Name: count, dtype: int64"
      ]
     },
     "metadata": {},
     "output_type": "display_data"
    },
    {
     "data": {
      "text/plain": [
       "cancelou\n",
       "1.0    56.8%\n",
       "0.0    43.2%\n",
       "Name: proportion, dtype: object"
      ]
     },
     "metadata": {},
     "output_type": "display_data"
    }
   ],
   "source": [
    "#Visualizando dados de uma coluna \"Cancelou\"\n",
    "#normalize=True serve para mostrar em percentual e o .map serve para converter em %\n",
    "display(tabela[\"cancelou\"].value_counts())\n",
    "display(tabela[\"cancelou\"].value_counts(normalize=True).map(\"{:.1%}\".format))"
   ]
  },
  {
   "cell_type": "code",
   "execution_count": 7,
   "metadata": {},
   "outputs": [
    {
     "data": {
      "application/vnd.plotly.v1+json": {
       "config": {
        "plotlyServerURL": "https://plot.ly"
       },
       "data": [
        {
         "alignmentgroup": "True",
         "bingroup": "x",
         "hovertemplate": "cancelou=0.0<br>idade=%{x}<br>count=%{y}<extra></extra>",
         "legendgroup": "0.0",
         "marker": {
          "color": "#636efa",
          "pattern": {
           "shape": ""
          }
         },
         "name": "0.0",
         "offsetgroup": "0.0",
         "orientation": "v",
         "showlegend": true,
         "type": "histogram",
         "x": [
          23,
          30,
          49,
          33,
          19,
          27,
          23,
          39,
          31,
          43,
          34,
          48,
          39,
          50,
          31,
          22,
          29,
          34,
          50,
          48,
          50,
          35,
          30,
          49,
          24,
          49,
          33,
          47,
          38,
          39,
          41,
          47,
          25,
          32,
          28,
          40,
          36,
          29,
          43,
          40,
          48,
          30,
          46,
          29,
          50,
          22,
          40,
          39,
          33,
          41,
          36,
          32,
          30,
          42,
          34,
          48,
          18,
          30,
          35,
          18,
          37,
          41,
          22,
          39,
          25,
          30,
          33,
          43,
          47,
          36,
          39,
          44,
          50,
          40,
          24,
          39,
          50,
          42,
          37,
          49,
          41,
          39,
          41,
          48,
          32,
          41,
          49,
          30,
          32,
          43,
          49,
          20,
          42,
          36,
          47,
          27,
          22,
          44,
          34,
          40,
          41,
          22,
          32,
          43,
          50,
          18,
          26,
          48,
          38,
          37,
          49,
          35,
          47,
          48,
          40,
          40,
          49,
          32,
          31,
          19,
          42,
          37,
          35,
          27,
          27,
          25,
          36,
          23,
          39,
          39,
          46,
          43,
          27,
          35,
          48,
          47,
          39,
          35,
          50,
          39,
          25,
          46,
          45,
          50,
          27,
          49,
          45,
          43,
          19,
          46,
          22,
          34,
          43,
          32,
          50,
          43,
          47,
          44,
          50,
          27,
          35,
          23,
          33,
          18,
          36,
          48,
          44,
          29,
          28,
          38,
          46,
          23,
          47,
          25,
          37,
          32,
          39,
          39,
          40,
          48,
          40,
          49,
          50,
          47,
          38,
          39,
          44,
          19,
          37,
          31,
          30,
          32,
          42,
          44,
          48,
          50,
          23,
          20,
          44,
          50,
          25,
          33,
          49,
          49,
          44,
          42,
          35,
          31,
          19,
          47,
          34,
          32,
          30,
          29,
          37,
          24,
          44,
          44,
          39,
          29,
          21,
          26,
          20,
          44,
          48,
          39,
          20,
          20,
          35,
          48,
          32,
          36,
          31,
          48,
          44,
          39,
          21,
          38,
          45,
          31,
          40,
          36,
          28,
          39,
          44,
          47,
          50,
          28,
          47,
          49,
          47,
          46,
          42,
          49,
          24,
          37,
          49,
          33,
          36,
          40,
          43,
          48,
          31,
          21,
          41,
          24,
          49,
          22,
          50,
          35,
          22,
          48,
          46,
          21,
          22,
          20,
          22,
          49,
          49,
          42,
          39,
          30,
          21,
          30,
          43,
          43,
          50,
          30,
          36,
          38,
          21,
          45,
          45,
          20,
          26,
          30,
          31,
          32,
          33,
          33,
          34,
          41,
          40,
          29,
          33,
          37,
          36,
          42,
          38,
          36,
          36,
          41,
          34,
          32,
          46,
          23,
          21,
          49,
          22,
          37,
          37,
          44,
          42,
          44,
          43,
          19,
          46,
          42,
          49,
          21,
          47,
          43,
          22,
          38,
          42,
          47,
          32,
          23,
          39,
          18,
          24,
          44,
          47,
          46,
          28,
          36,
          44,
          27,
          34,
          47,
          48,
          30,
          26,
          26,
          48,
          44,
          45,
          39,
          24,
          43,
          26,
          41,
          26,
          32,
          39,
          49,
          34,
          41,
          44,
          48,
          18,
          43,
          41,
          30,
          42,
          32,
          49,
          47,
          40,
          36,
          42,
          38,
          25,
          31,
          32,
          21,
          44,
          29,
          29,
          48,
          44,
          23,
          42,
          43,
          48,
          37,
          23,
          37,
          50,
          31,
          36,
          42,
          31,
          24,
          39,
          45,
          44,
          36,
          48,
          30,
          29,
          38,
          37,
          40,
          49,
          33,
          49,
          43,
          50,
          47,
          49,
          40,
          44,
          49,
          37,
          41,
          30,
          21,
          34,
          42,
          35,
          33,
          23,
          42,
          32,
          28,
          49,
          44,
          42,
          45,
          37
         ],
         "xaxis": "x",
         "yaxis": "y"
        },
        {
         "alignmentgroup": "True",
         "bingroup": "x",
         "hovertemplate": "cancelou=1.0<br>idade=%{x}<br>count=%{y}<extra></extra>",
         "legendgroup": "1.0",
         "marker": {
          "color": "#EF553B",
          "pattern": {
           "shape": ""
          }
         },
         "name": "1.0",
         "offsetgroup": "1.0",
         "orientation": "v",
         "showlegend": true,
         "type": "histogram",
         "x": [
          49,
          26,
          27,
          47,
          43,
          54,
          59,
          50,
          33,
          34,
          33,
          38,
          64,
          56,
          64,
          55,
          29,
          54,
          60,
          55,
          57,
          54,
          35,
          44,
          32,
          34,
          35,
          18,
          60,
          44,
          63,
          55,
          59,
          26,
          29,
          65,
          65,
          49,
          33,
          28,
          60,
          44,
          23,
          39,
          36,
          21,
          43,
          21,
          34,
          55,
          25,
          64,
          60,
          23,
          36,
          61,
          33,
          23,
          32,
          55,
          30,
          28,
          33,
          50,
          34,
          40,
          38,
          23,
          38,
          32,
          33,
          43,
          29,
          33,
          35,
          25,
          49,
          22,
          51,
          53,
          57,
          64,
          54,
          18,
          42,
          39,
          30,
          42,
          44,
          63,
          18,
          40,
          37,
          65,
          40,
          64,
          30,
          39,
          58,
          62,
          25,
          48,
          47,
          37,
          33,
          26,
          58,
          19,
          54,
          65,
          43,
          42,
          59,
          60,
          55,
          46,
          30,
          31,
          55,
          20,
          53,
          29,
          50,
          26,
          50,
          30,
          23,
          24,
          57,
          61,
          31,
          59,
          31,
          23,
          41,
          36,
          58,
          59,
          34,
          57,
          50,
          20,
          65,
          56,
          39,
          26,
          52,
          56,
          33,
          64,
          40,
          28,
          56,
          34,
          22,
          48,
          58,
          18,
          38,
          32,
          36,
          19,
          62,
          29,
          18,
          42,
          30,
          27,
          48,
          18,
          39,
          56,
          52,
          31,
          35,
          33,
          37,
          46,
          59,
          43,
          28,
          23,
          46,
          25,
          23,
          36,
          18,
          45,
          35,
          45,
          27,
          46,
          23,
          44,
          48,
          42,
          31,
          61,
          18,
          21,
          51,
          33,
          38,
          30,
          38,
          24,
          22,
          35,
          51,
          44,
          48,
          39,
          20,
          57,
          63,
          30,
          63,
          37,
          53,
          53,
          64,
          28,
          32,
          28,
          40,
          30,
          49,
          52,
          28,
          45,
          52,
          55,
          51,
          60,
          31,
          52,
          22,
          48,
          35,
          19,
          65,
          47,
          55,
          57,
          25,
          28,
          54,
          30,
          52,
          29,
          30,
          57,
          54,
          35,
          58,
          33,
          45,
          18,
          57,
          22,
          23,
          30,
          30,
          39,
          54,
          32,
          59,
          47,
          57,
          41,
          46,
          45,
          20,
          37,
          30,
          18,
          45,
          60,
          65,
          44,
          30,
          18,
          41,
          49,
          65,
          44,
          54,
          30,
          29,
          57,
          38,
          29,
          58,
          49,
          19,
          27,
          41,
          42,
          37,
          65,
          62,
          57,
          59,
          48,
          35,
          54,
          40,
          55,
          59,
          39,
          55,
          25,
          49,
          53,
          30,
          56,
          35,
          22,
          34,
          64,
          33,
          37,
          43,
          53,
          34,
          54,
          56,
          32,
          42,
          30,
          34,
          22,
          42,
          42,
          46,
          43,
          39,
          63,
          21,
          53,
          30,
          48,
          61,
          58,
          32,
          47,
          52,
          22,
          28,
          41,
          64,
          21,
          38,
          60,
          19,
          40,
          41,
          59,
          36,
          46,
          38,
          35,
          32,
          20,
          30,
          46,
          53,
          47,
          54,
          61,
          44,
          43,
          41,
          41,
          19,
          46,
          47,
          30,
          22,
          35,
          34,
          41,
          23,
          36,
          21,
          34,
          38,
          18,
          53,
          20,
          58,
          18,
          47,
          35,
          44,
          27,
          44,
          57,
          39,
          43,
          38,
          59,
          23,
          19,
          44,
          63,
          26,
          44,
          42,
          27,
          44,
          56,
          46,
          26,
          20,
          64,
          33,
          40,
          34,
          58,
          62,
          47,
          52,
          62,
          49,
          32,
          29,
          31,
          48,
          19,
          53,
          21,
          57,
          29,
          30,
          44,
          29,
          26,
          59,
          24,
          30,
          19,
          55,
          62,
          28,
          25,
          60,
          58,
          28,
          41,
          26,
          45,
          42,
          62,
          43,
          37,
          20,
          48,
          60,
          41,
          46,
          57,
          26,
          48,
          50,
          35,
          31,
          52,
          57,
          41,
          51,
          44,
          36,
          62,
          39,
          23,
          57,
          56,
          52,
          50,
          55,
          34,
          24,
          46,
          48,
          22,
          31,
          37,
          42,
          50,
          40,
          45,
          26,
          65,
          56,
          62,
          43,
          32,
          55,
          40,
          29,
          27,
          24,
          34,
          27,
          40,
          45,
          31,
          55,
          30,
          52,
          59,
          32,
          63,
          22,
          23,
          31,
          27,
          34,
          43,
          28,
          26,
          47,
          53,
          31,
          58,
          58,
          53,
          41,
          54,
          46,
          22,
          25,
          19,
          65,
          26,
          29,
          33,
          56,
          42,
          18,
          37,
          60,
          26,
          61,
          64,
          20,
          28,
          57,
          21,
          23,
          38,
          24,
          45,
          46,
          63,
          63,
          24,
          47,
          61,
          48,
          21,
          37,
          61,
          65,
          32,
          27,
          21,
          19,
          30,
          39,
          47,
          23,
          23,
          63,
          50,
          40,
          18,
          48,
          19
         ],
         "xaxis": "x",
         "yaxis": "y"
        }
       ],
       "layout": {
        "barmode": "relative",
        "legend": {
         "title": {
          "text": "cancelou"
         },
         "tracegroupgap": 0
        },
        "margin": {
         "t": 60
        },
        "template": {
         "data": {
          "bar": [
           {
            "error_x": {
             "color": "#2a3f5f"
            },
            "error_y": {
             "color": "#2a3f5f"
            },
            "marker": {
             "line": {
              "color": "#E5ECF6",
              "width": 0.5
             },
             "pattern": {
              "fillmode": "overlay",
              "size": 10,
              "solidity": 0.2
             }
            },
            "type": "bar"
           }
          ],
          "barpolar": [
           {
            "marker": {
             "line": {
              "color": "#E5ECF6",
              "width": 0.5
             },
             "pattern": {
              "fillmode": "overlay",
              "size": 10,
              "solidity": 0.2
             }
            },
            "type": "barpolar"
           }
          ],
          "carpet": [
           {
            "aaxis": {
             "endlinecolor": "#2a3f5f",
             "gridcolor": "white",
             "linecolor": "white",
             "minorgridcolor": "white",
             "startlinecolor": "#2a3f5f"
            },
            "baxis": {
             "endlinecolor": "#2a3f5f",
             "gridcolor": "white",
             "linecolor": "white",
             "minorgridcolor": "white",
             "startlinecolor": "#2a3f5f"
            },
            "type": "carpet"
           }
          ],
          "choropleth": [
           {
            "colorbar": {
             "outlinewidth": 0,
             "ticks": ""
            },
            "type": "choropleth"
           }
          ],
          "contour": [
           {
            "colorbar": {
             "outlinewidth": 0,
             "ticks": ""
            },
            "colorscale": [
             [
              0,
              "#0d0887"
             ],
             [
              0.1111111111111111,
              "#46039f"
             ],
             [
              0.2222222222222222,
              "#7201a8"
             ],
             [
              0.3333333333333333,
              "#9c179e"
             ],
             [
              0.4444444444444444,
              "#bd3786"
             ],
             [
              0.5555555555555556,
              "#d8576b"
             ],
             [
              0.6666666666666666,
              "#ed7953"
             ],
             [
              0.7777777777777778,
              "#fb9f3a"
             ],
             [
              0.8888888888888888,
              "#fdca26"
             ],
             [
              1,
              "#f0f921"
             ]
            ],
            "type": "contour"
           }
          ],
          "contourcarpet": [
           {
            "colorbar": {
             "outlinewidth": 0,
             "ticks": ""
            },
            "type": "contourcarpet"
           }
          ],
          "heatmap": [
           {
            "colorbar": {
             "outlinewidth": 0,
             "ticks": ""
            },
            "colorscale": [
             [
              0,
              "#0d0887"
             ],
             [
              0.1111111111111111,
              "#46039f"
             ],
             [
              0.2222222222222222,
              "#7201a8"
             ],
             [
              0.3333333333333333,
              "#9c179e"
             ],
             [
              0.4444444444444444,
              "#bd3786"
             ],
             [
              0.5555555555555556,
              "#d8576b"
             ],
             [
              0.6666666666666666,
              "#ed7953"
             ],
             [
              0.7777777777777778,
              "#fb9f3a"
             ],
             [
              0.8888888888888888,
              "#fdca26"
             ],
             [
              1,
              "#f0f921"
             ]
            ],
            "type": "heatmap"
           }
          ],
          "heatmapgl": [
           {
            "colorbar": {
             "outlinewidth": 0,
             "ticks": ""
            },
            "colorscale": [
             [
              0,
              "#0d0887"
             ],
             [
              0.1111111111111111,
              "#46039f"
             ],
             [
              0.2222222222222222,
              "#7201a8"
             ],
             [
              0.3333333333333333,
              "#9c179e"
             ],
             [
              0.4444444444444444,
              "#bd3786"
             ],
             [
              0.5555555555555556,
              "#d8576b"
             ],
             [
              0.6666666666666666,
              "#ed7953"
             ],
             [
              0.7777777777777778,
              "#fb9f3a"
             ],
             [
              0.8888888888888888,
              "#fdca26"
             ],
             [
              1,
              "#f0f921"
             ]
            ],
            "type": "heatmapgl"
           }
          ],
          "histogram": [
           {
            "marker": {
             "pattern": {
              "fillmode": "overlay",
              "size": 10,
              "solidity": 0.2
             }
            },
            "type": "histogram"
           }
          ],
          "histogram2d": [
           {
            "colorbar": {
             "outlinewidth": 0,
             "ticks": ""
            },
            "colorscale": [
             [
              0,
              "#0d0887"
             ],
             [
              0.1111111111111111,
              "#46039f"
             ],
             [
              0.2222222222222222,
              "#7201a8"
             ],
             [
              0.3333333333333333,
              "#9c179e"
             ],
             [
              0.4444444444444444,
              "#bd3786"
             ],
             [
              0.5555555555555556,
              "#d8576b"
             ],
             [
              0.6666666666666666,
              "#ed7953"
             ],
             [
              0.7777777777777778,
              "#fb9f3a"
             ],
             [
              0.8888888888888888,
              "#fdca26"
             ],
             [
              1,
              "#f0f921"
             ]
            ],
            "type": "histogram2d"
           }
          ],
          "histogram2dcontour": [
           {
            "colorbar": {
             "outlinewidth": 0,
             "ticks": ""
            },
            "colorscale": [
             [
              0,
              "#0d0887"
             ],
             [
              0.1111111111111111,
              "#46039f"
             ],
             [
              0.2222222222222222,
              "#7201a8"
             ],
             [
              0.3333333333333333,
              "#9c179e"
             ],
             [
              0.4444444444444444,
              "#bd3786"
             ],
             [
              0.5555555555555556,
              "#d8576b"
             ],
             [
              0.6666666666666666,
              "#ed7953"
             ],
             [
              0.7777777777777778,
              "#fb9f3a"
             ],
             [
              0.8888888888888888,
              "#fdca26"
             ],
             [
              1,
              "#f0f921"
             ]
            ],
            "type": "histogram2dcontour"
           }
          ],
          "mesh3d": [
           {
            "colorbar": {
             "outlinewidth": 0,
             "ticks": ""
            },
            "type": "mesh3d"
           }
          ],
          "parcoords": [
           {
            "line": {
             "colorbar": {
              "outlinewidth": 0,
              "ticks": ""
             }
            },
            "type": "parcoords"
           }
          ],
          "pie": [
           {
            "automargin": true,
            "type": "pie"
           }
          ],
          "scatter": [
           {
            "fillpattern": {
             "fillmode": "overlay",
             "size": 10,
             "solidity": 0.2
            },
            "type": "scatter"
           }
          ],
          "scatter3d": [
           {
            "line": {
             "colorbar": {
              "outlinewidth": 0,
              "ticks": ""
             }
            },
            "marker": {
             "colorbar": {
              "outlinewidth": 0,
              "ticks": ""
             }
            },
            "type": "scatter3d"
           }
          ],
          "scattercarpet": [
           {
            "marker": {
             "colorbar": {
              "outlinewidth": 0,
              "ticks": ""
             }
            },
            "type": "scattercarpet"
           }
          ],
          "scattergeo": [
           {
            "marker": {
             "colorbar": {
              "outlinewidth": 0,
              "ticks": ""
             }
            },
            "type": "scattergeo"
           }
          ],
          "scattergl": [
           {
            "marker": {
             "colorbar": {
              "outlinewidth": 0,
              "ticks": ""
             }
            },
            "type": "scattergl"
           }
          ],
          "scattermapbox": [
           {
            "marker": {
             "colorbar": {
              "outlinewidth": 0,
              "ticks": ""
             }
            },
            "type": "scattermapbox"
           }
          ],
          "scatterpolar": [
           {
            "marker": {
             "colorbar": {
              "outlinewidth": 0,
              "ticks": ""
             }
            },
            "type": "scatterpolar"
           }
          ],
          "scatterpolargl": [
           {
            "marker": {
             "colorbar": {
              "outlinewidth": 0,
              "ticks": ""
             }
            },
            "type": "scatterpolargl"
           }
          ],
          "scatterternary": [
           {
            "marker": {
             "colorbar": {
              "outlinewidth": 0,
              "ticks": ""
             }
            },
            "type": "scatterternary"
           }
          ],
          "surface": [
           {
            "colorbar": {
             "outlinewidth": 0,
             "ticks": ""
            },
            "colorscale": [
             [
              0,
              "#0d0887"
             ],
             [
              0.1111111111111111,
              "#46039f"
             ],
             [
              0.2222222222222222,
              "#7201a8"
             ],
             [
              0.3333333333333333,
              "#9c179e"
             ],
             [
              0.4444444444444444,
              "#bd3786"
             ],
             [
              0.5555555555555556,
              "#d8576b"
             ],
             [
              0.6666666666666666,
              "#ed7953"
             ],
             [
              0.7777777777777778,
              "#fb9f3a"
             ],
             [
              0.8888888888888888,
              "#fdca26"
             ],
             [
              1,
              "#f0f921"
             ]
            ],
            "type": "surface"
           }
          ],
          "table": [
           {
            "cells": {
             "fill": {
              "color": "#EBF0F8"
             },
             "line": {
              "color": "white"
             }
            },
            "header": {
             "fill": {
              "color": "#C8D4E3"
             },
             "line": {
              "color": "white"
             }
            },
            "type": "table"
           }
          ]
         },
         "layout": {
          "annotationdefaults": {
           "arrowcolor": "#2a3f5f",
           "arrowhead": 0,
           "arrowwidth": 1
          },
          "autotypenumbers": "strict",
          "coloraxis": {
           "colorbar": {
            "outlinewidth": 0,
            "ticks": ""
           }
          },
          "colorscale": {
           "diverging": [
            [
             0,
             "#8e0152"
            ],
            [
             0.1,
             "#c51b7d"
            ],
            [
             0.2,
             "#de77ae"
            ],
            [
             0.3,
             "#f1b6da"
            ],
            [
             0.4,
             "#fde0ef"
            ],
            [
             0.5,
             "#f7f7f7"
            ],
            [
             0.6,
             "#e6f5d0"
            ],
            [
             0.7,
             "#b8e186"
            ],
            [
             0.8,
             "#7fbc41"
            ],
            [
             0.9,
             "#4d9221"
            ],
            [
             1,
             "#276419"
            ]
           ],
           "sequential": [
            [
             0,
             "#0d0887"
            ],
            [
             0.1111111111111111,
             "#46039f"
            ],
            [
             0.2222222222222222,
             "#7201a8"
            ],
            [
             0.3333333333333333,
             "#9c179e"
            ],
            [
             0.4444444444444444,
             "#bd3786"
            ],
            [
             0.5555555555555556,
             "#d8576b"
            ],
            [
             0.6666666666666666,
             "#ed7953"
            ],
            [
             0.7777777777777778,
             "#fb9f3a"
            ],
            [
             0.8888888888888888,
             "#fdca26"
            ],
            [
             1,
             "#f0f921"
            ]
           ],
           "sequentialminus": [
            [
             0,
             "#0d0887"
            ],
            [
             0.1111111111111111,
             "#46039f"
            ],
            [
             0.2222222222222222,
             "#7201a8"
            ],
            [
             0.3333333333333333,
             "#9c179e"
            ],
            [
             0.4444444444444444,
             "#bd3786"
            ],
            [
             0.5555555555555556,
             "#d8576b"
            ],
            [
             0.6666666666666666,
             "#ed7953"
            ],
            [
             0.7777777777777778,
             "#fb9f3a"
            ],
            [
             0.8888888888888888,
             "#fdca26"
            ],
            [
             1,
             "#f0f921"
            ]
           ]
          },
          "colorway": [
           "#636efa",
           "#EF553B",
           "#00cc96",
           "#ab63fa",
           "#FFA15A",
           "#19d3f3",
           "#FF6692",
           "#B6E880",
           "#FF97FF",
           "#FECB52"
          ],
          "font": {
           "color": "#2a3f5f"
          },
          "geo": {
           "bgcolor": "white",
           "lakecolor": "white",
           "landcolor": "#E5ECF6",
           "showlakes": true,
           "showland": true,
           "subunitcolor": "white"
          },
          "hoverlabel": {
           "align": "left"
          },
          "hovermode": "closest",
          "mapbox": {
           "style": "light"
          },
          "paper_bgcolor": "white",
          "plot_bgcolor": "#E5ECF6",
          "polar": {
           "angularaxis": {
            "gridcolor": "white",
            "linecolor": "white",
            "ticks": ""
           },
           "bgcolor": "#E5ECF6",
           "radialaxis": {
            "gridcolor": "white",
            "linecolor": "white",
            "ticks": ""
           }
          },
          "scene": {
           "xaxis": {
            "backgroundcolor": "#E5ECF6",
            "gridcolor": "white",
            "gridwidth": 2,
            "linecolor": "white",
            "showbackground": true,
            "ticks": "",
            "zerolinecolor": "white"
           },
           "yaxis": {
            "backgroundcolor": "#E5ECF6",
            "gridcolor": "white",
            "gridwidth": 2,
            "linecolor": "white",
            "showbackground": true,
            "ticks": "",
            "zerolinecolor": "white"
           },
           "zaxis": {
            "backgroundcolor": "#E5ECF6",
            "gridcolor": "white",
            "gridwidth": 2,
            "linecolor": "white",
            "showbackground": true,
            "ticks": "",
            "zerolinecolor": "white"
           }
          },
          "shapedefaults": {
           "line": {
            "color": "#2a3f5f"
           }
          },
          "ternary": {
           "aaxis": {
            "gridcolor": "white",
            "linecolor": "white",
            "ticks": ""
           },
           "baxis": {
            "gridcolor": "white",
            "linecolor": "white",
            "ticks": ""
           },
           "bgcolor": "#E5ECF6",
           "caxis": {
            "gridcolor": "white",
            "linecolor": "white",
            "ticks": ""
           }
          },
          "title": {
           "x": 0.05
          },
          "xaxis": {
           "automargin": true,
           "gridcolor": "white",
           "linecolor": "white",
           "ticks": "",
           "title": {
            "standoff": 15
           },
           "zerolinecolor": "white",
           "zerolinewidth": 2
          },
          "yaxis": {
           "automargin": true,
           "gridcolor": "white",
           "linecolor": "white",
           "ticks": "",
           "title": {
            "standoff": 15
           },
           "zerolinecolor": "white",
           "zerolinewidth": 2
          }
         }
        },
        "xaxis": {
         "anchor": "y",
         "domain": [
          0,
          1
         ],
         "title": {
          "text": "idade"
         }
        },
        "yaxis": {
         "anchor": "x",
         "domain": [
          0,
          1
         ],
         "title": {
          "text": "count"
         }
        }
       }
      }
     },
     "metadata": {},
     "output_type": "display_data"
    }
   ],
   "source": [
    "#Criando graficos com as colunas de dados\n",
    "import plotly.express as px\n",
    "\n",
    "grafico = px.histogram(tabela, x=\"idade\", color=\"cancelou\")\n",
    "grafico.show()"
   ]
  }
 ],
 "metadata": {
  "kernelspec": {
   "display_name": "base",
   "language": "python",
   "name": "python3"
  },
  "language_info": {
   "codemirror_mode": {
    "name": "ipython",
    "version": 3
   },
   "file_extension": ".py",
   "mimetype": "text/x-python",
   "name": "python",
   "nbconvert_exporter": "python",
   "pygments_lexer": "ipython3",
   "version": "3.12.2"
  },
  "orig_nbformat": 4
 },
 "nbformat": 4,
 "nbformat_minor": 2
}
